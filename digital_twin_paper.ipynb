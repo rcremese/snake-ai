{
 "cells": [
  {
   "cell_type": "markdown",
   "metadata": {},
   "source": [
    "# Figures pour le papier Digital Twins"
   ]
  },
  {
   "cell_type": "code",
   "execution_count": 1,
   "metadata": {},
   "outputs": [
    {
     "name": "stdout",
     "output_type": "stream",
     "text": [
      "pygame 2.4.0 (SDL 2.26.5, Python 3.10.11)\n",
      "Hello from the pygame community. https://www.pygame.org/contribute.html\n",
      "[Taichi] version 1.6.0, llvm 15.0.4, commit f1c6fbbd, linux, python 3.10.11\n"
     ]
    },
    {
     "name": "stderr",
     "output_type": "stream",
     "text": [
      "[I 05/03/24 10:34:09.573 920] [shell.py:_shell_pop_print@23] Graphical python shell detected, using wrapped sys.stdout\n"
     ]
    }
   ],
   "source": [
    "from snake_ai.envs import RandomObstaclesEnv\n",
    "import scipy.sparse as sp\n",
    "import numpy as np\n",
    "import phi.flow as pf\n",
    "import matplotlib.pyplot as plt\n",
    "import scipy.sparse.linalg as splinalg\n",
    "import tqdm"
   ]
  },
  {
   "cell_type": "markdown",
   "metadata": {},
   "source": [
    "## Définition des différences finies"
   ]
  },
  {
   "cell_type": "code",
   "execution_count": 2,
   "metadata": {},
   "outputs": [],
   "source": [
    "def create_laplacian_matrix_2d(\n",
    "    nx: int, ny: int, dx: float, dy: float\n",
    ") -> sp.lil_array:\n",
    "    Dxx = sp.diags([1, -2, 1], [-1, 0, 1], shape=(nx, nx)) / dx**2\n",
    "    Dyy = sp.diags([1, -2, 1], [-1, 0, 1], shape=(ny, ny)) / dy**2\n",
    "    return sp.kronsum(Dyy, Dxx, format=\"csr\")\n",
    "\n",
    "\n",
    "def create_laplacian_matrix_3d(\n",
    "    nx: int, ny: int, nz: int, dx: float, dy: float, dz: float\n",
    ") -> sp.lil_array:\n",
    "    # Compute the 2D laplacian matrix\n",
    "    laplace_2d = create_laplacian_matrix_2d(nx, ny, dx, dy)\n",
    "\n",
    "    Dzz = sp.diags([1, -2, 1], [-1, 0, 1], shape=(nz, nz)) / dz**2\n",
    "    return sp.kronsum(Dzz, laplace_2d, format=\"csr\")"
   ]
  },
  {
   "cell_type": "code",
   "execution_count": 3,
   "metadata": {},
   "outputs": [],
   "source": [
    "# Definition of functions to convert between indices and subscripts\n",
    "def ind2sub_2D(array_shape, ind):\n",
    "    rows = (ind / array_shape[1])\n",
    "    cols = ind % array_shape[1]\n",
    "    return np.array([rows, cols], dtype='int')\n",
    "\n",
    "def sub2ind_2D(array_shape, rows, cols):\n",
    "    return int(rows*array_shape[1] + cols)"
   ]
  },
  {
   "cell_type": "code",
   "execution_count": 4,
   "metadata": {},
   "outputs": [],
   "source": [
    "def apply_dirichlet_2D(A: sp.spmatrix, binary_map: np.ndarray):\n",
    "    \"\"\"Apply the Dirichlet boundary conditions to the linear system.\n",
    "\n",
    "    Args:\n",
    "        A (sp.spmatrix): Sparse matrix of the linear system Ax = b\n",
    "        binary_map (np.ndarray): binary map of the domain, where 1 correspond to spaces to apply the boundary conditions \n",
    "    \"\"\"\n",
    "    res = binary_map.shape\n",
    "    max_index = np.prod(res)\n",
    "    rhs = np.zeros(max_index)\n",
    "    assert A.shape == (max_index, max_index), \"Shape mismatch between the matrix and the binary map\"  \n",
    "\n",
    "    rows, cols = np.nonzero(binary_map)   \n",
    "    for i, j in tqdm.tqdm(zip(rows, cols), total=len(rows)):\n",
    "        index = sub2ind_2D(res, i, j)\n",
    "        \n",
    "        A[index, index] = 1\n",
    "        rhs[index] = binary_map[i, j]\n",
    "        \n",
    "        ind_o = sub2ind_2D(res, i + 1, j)\n",
    "        ind_e = sub2ind_2D(res, i - 1, j)\n",
    "        ind_n = sub2ind_2D(res, i, j + 1)\n",
    "        ind_s = sub2ind_2D(res, i, j - 1)\n",
    "        \n",
    "        for neighbour_ind in [ind_o, ind_e, ind_n, ind_s]:\n",
    "            # Set the row to the identity vector and apply the colums to rhs\n",
    "            if neighbour_ind >= 0 and neighbour_ind < max_index:\n",
    "                A[index, neighbour_ind] = 0\n",
    "                rhs[neighbour_ind] -= A[neighbour_ind, index] * rhs[index]\n",
    "                A[neighbour_ind, index] = 0\n",
    "    return A, rhs"
   ]
  },
  {
   "cell_type": "markdown",
   "metadata": {},
   "source": [
    "## Utilisation d'environements existants"
   ]
  },
  {
   "cell_type": "code",
   "execution_count": 6,
   "metadata": {},
   "outputs": [
    {
     "data": {
      "text/plain": [
       "<matplotlib.colorbar.Colorbar at 0x7f87a907b370>"
      ]
     },
     "execution_count": 6,
     "metadata": {},
     "output_type": "execute_result"
    },
    {
     "data": {
      "image/png": "[encoded data removed]",
      "text/plain": [
       "<Figure size 640x480 with 2 Axes>"
      ]
     },
     "metadata": {},
     "output_type": "display_data"
    }
   ],
   "source": [
    "env = RandomObstaclesEnv(pixel=1, nb_obs=20, max_obs_size=3)\n",
    "env.reset()\n",
    "plt.imshow(env._free_position_mask, origin='lower')\n",
    "plt.plot(env.goal.x, env.goal.y, 'go')\n",
    "plt.plot(env.agent.position.x, env.agent.position.y, 'bo')\n",
    "plt.colorbar()"
   ]
  },
  {
   "cell_type": "markdown",
   "metadata": {},
   "source": [
    "# Definition d'environement à partir de carte binaires "
   ]
  },
  {
   "cell_type": "code",
   "execution_count": 36,
   "metadata": {},
   "outputs": [],
   "source": [
    "binary_map = np.array([\n",
    "    [0, 0,0,0,0,0,0,0,0,0, 0],\n",
    "    [0, 0,0,0,0,0,0,0,0,0, 0],\n",
    "    [0, 0,1,1,1,0,1,1,1,0, 0],\n",
    "    [0, 0,1,1,1,0,0,0,1,0, 0],\n",
    "    [0, 0,1,1,1,1,1,0,1,0, 0],\n",
    "    [0, 0,1,0,0,0,0,0,1,0, 0],\n",
    "    [0, 0,1,0,1,1,1,1,1,0, 0],\n",
    "    [0, 0,1,0,0,0,1,1,1,0, 0],\n",
    "    [0, 0,1,1,1,0,1,1,1,0, 0],\n",
    "    [0, 0,0,0,0,0,0,0,0,0, 0],\n",
    "    [0, 0,0,0,0,0,0,0,0,0, 0],\n",
    "])\n",
    "binary_map.shape\n",
    "x_max, y_max = binary_map.shape"
   ]
  },
  {
   "cell_type": "code",
   "execution_count": 18,
   "metadata": {},
   "outputs": [
    {
     "data": {
      "text/plain": [
       "<Figure size 1200x500 with 1 Axes>"
      ]
     },
     "execution_count": 18,
     "metadata": {},
     "output_type": "execute_result"
    },
    {
     "data": {
      "image/png": "[encoded data removed]",
      "text/plain": [
       "<Figure size 1200x500 with 1 Axes>"
      ]
     },
     "metadata": {},
     "output_type": "display_data"
    }
   ],
   "source": [
    "# Use phiflow to represent the domain\n",
    "domain = pf.Box(x=binary_map.shape[0], y=binary_map.shape[1])\n",
    "obstacles = [\n",
    "    pf.Box(x=(i,i+1), y=(j,j+1))\n",
    "    for i, j in zip(*np.where(binary_map == 1))\n",
    "]\n",
    "obstacle_mask = pf.union(obstacles)\n",
    "pf.vis.plot(obstacle_mask)"
   ]
  },
  {
   "cell_type": "code",
   "execution_count": 27,
   "metadata": {},
   "outputs": [
    {
     "data": {
      "text/plain": [
       "<Figure size 1200x500 with 3 Axes>"
      ]
     },
     "execution_count": 27,
     "metadata": {},
     "output_type": "execute_result"
    },
    {
     "data": {
      "image/png": "[encoded data removed]",
      "text/plain": [
       "<Figure size 1200x500 with 3 Axes>"
      ]
     },
     "metadata": {},
     "output_type": "display_data"
    }
   ],
   "source": [
    "goal_pos = np.array([9, 5]) \n",
    "goal = pf.Box(x=(goal_pos[0], goal_pos[0]+1), y=(goal_pos[1], goal_pos[1]+1))\n",
    "init_pos = np.array([1, 5])\n",
    "init = pf.Box(x=(init_pos[0], init_pos[0]+1), y=(init_pos[1], init_pos[1]+1))\n",
    "pf.vis.plot([init, obstacle_mask, goal], color=['blue', 'red','green'])"
   ]
  },
  {
   "cell_type": "code",
   "execution_count": null,
   "metadata": {},
   "outputs": [],
   "source": [
    "def solve_diffusion(domain, obstacle_map, goal, resolution=1):    \n",
    "    # Create the laplacian matrix\n",
    "    A = create_laplacian_matrix_2d(domain.x.res, domain.y.res, domain.dx, domain.dy)\n",
    "    A, rhs = apply_dirichlet_2D(A, binary_map)\n",
    "    # Solve the linear system\n",
    "    solution = splinalg.spsolve(A, rhs)\n",
    "    # Reshape the solution to the domain shape\n",
    "    solution = solution.reshape(domain.shape)\n",
    "    return solution"
   ]
  },
  {
   "cell_type": "code",
   "execution_count": 8,
   "metadata": {},
   "outputs": [],
   "source": [
    "res = 10\n",
    "x_max, y_max = binary_map.shape\n",
    "\n",
    "new_obs_map = np.zeros((x_max * res, y_max * res))\n",
    "for x, y in np.argwhere(binary_map):\n",
    "    new_obs_map[x*res:(x+1)*res, y*res:(y+1)*res] = 1"
   ]
  },
  {
   "cell_type": "code",
   "execution_count": 9,
   "metadata": {},
   "outputs": [
    {
     "data": {
      "text/plain": [
       "<matplotlib.patches.Circle at 0x7f87a9143640>"
      ]
     },
     "execution_count": 9,
     "metadata": {},
     "output_type": "execute_result"
    },
    {
     "data": {
      "image/png": "[encoded data removed]",
      "text/plain": [
       "<Figure size 640x480 with 1 Axes>"
      ]
     },
     "metadata": {},
     "output_type": "display_data"
    }
   ],
   "source": [
    "init_pos = np.array([5.5, 1.5])\n",
    "goal_pos = np.array([5.5, 9.5])\n",
    "fig, ax = plt.subplots()\n",
    "ax.imshow(new_obs_map, origin='lower', extent=[0, x_max, 0, y_max])\n",
    "ax.add_patch(plt.Circle(init_pos, 0.3, color=\"green\"))\n",
    "ax.add_patch(plt.Circle(goal_pos, 0.3, color=\"blue\"))   "
   ]
  },
  {
   "cell_type": "code",
   "execution_count": 11,
   "metadata": {},
   "outputs": [
    {
     "name": "stderr",
     "output_type": "stream",
     "text": [
      "100%|██████████| 1/1 [00:00<00:00, 768.33it/s]\n"
     ]
    },
    {
     "data": {
      "text/plain": [
       "<matplotlib.image.AxesImage at 0x7f87a86b1870>"
      ]
     },
     "execution_count": 11,
     "metadata": {},
     "output_type": "execute_result"
    },
    {
     "data": {
      "image/png": "[encoded data removed]",
      "text/plain": [
       "<Figure size 640x480 with 1 Axes>"
      ]
     },
     "metadata": {},
     "output_type": "display_data"
    }
   ],
   "source": [
    "## \n",
    "step = np.array(binary_map.shape) / np.array(new_obs_map.shape)\n",
    "laplace = create_laplacian_matrix_2d(*new_obs_map.shape, *step)\n",
    "rhs = np.zeros(new_obs_map.shape)\n",
    "goal_ind = goal_pos * res\n",
    "rhs[int(goal_ind[1]), int(goal_ind[0])] = 1e3\n",
    "laplace, rhs = apply_dirichlet_2D(laplace, rhs)\n",
    "plt.imshow(rhs.reshape(new_obs_map.shape), origin='lower', extent=[0, x_max, 0, y_max])\n",
    "# plt.imshow(new_obs_map, origin='lower', extent=[0, x_max, 0, y_max])"
   ]
  },
  {
   "cell_type": "code",
   "execution_count": 41,
   "metadata": {},
   "outputs": [],
   "source": [
    "valid_ind = new_obs_map.flat == 0\n",
    "A = laplace[valid_ind][:, valid_ind]\n",
    "b = rhs.flat[valid_ind]\n",
    "x = splinalg.spsolve(A, b)\n",
    "solution = np.zeros(new_obs_map.shape)\n",
    "solution.flat[valid_ind] = x"
   ]
  },
  {
   "cell_type": "code",
   "execution_count": 42,
   "metadata": {},
   "outputs": [
    {
     "data": {
      "text/plain": [
       "<matplotlib.image.AxesImage at 0x7f87a2676860>"
      ]
     },
     "execution_count": 42,
     "metadata": {},
     "output_type": "execute_result"
    },
    {
     "data": {
      "image/png": "[encoded data removed]",
      "text/plain": [
       "<Figure size 640x480 with 1 Axes>"
      ]
     },
     "metadata": {},
     "output_type": "display_data"
    }
   ],
   "source": [
    "plt.imshow(solution, origin='lower', extent=[0, x_max, 0, y_max])"
   ]
  },
  {
   "cell_type": "code",
   "execution_count": 39,
   "metadata": {},
   "outputs": [
    {
     "name": "stdout",
     "output_type": "stream",
     "text": [
      "[Taichi] Starting on arch=x64\n"
     ]
    }
   ],
   "source": [
    "# Show the solution and its normalised gradient\n",
    "from snake_ai.diffsim.field import ScalarField, VectorField, spatial_gradient\n",
    "from snake_ai.envs.geometry import Rectangle\n",
    "import taichi as ti\n",
    "\n",
    "ti.init()\n",
    "concentration = ScalarField(solution, Rectangle(0, 0, x_max, y_max))\n",
    "gradient = spatial_gradient(concentration)\n",
    "gradient.normalize()"
   ]
  },
  {
   "cell_type": "markdown",
   "metadata": {},
   "source": []
  }
 ],
 "metadata": {
  "kernelspec": {
   "display_name": "snake-env",
   "language": "python",
   "name": "python3"
  },
  "language_info": {
   "codemirror_mode": {
    "name": "ipython",
    "version": 3
   },
   "file_extension": ".py",
   "mimetype": "text/x-python",
   "name": "python",
   "nbconvert_exporter": "python",
   "pygments_lexer": "ipython3",
   "version": "3.10.11"
  }
 },
 "nbformat": 4,
 "nbformat_minor": 2
}
