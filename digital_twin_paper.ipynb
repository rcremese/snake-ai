{
 "cells": [
  {
   "cell_type": "markdown",
   "metadata": {},
   "source": [
    "# Figures pour le papier Digital Twins"
   ]
  },
  {
   "cell_type": "code",
   "execution_count": 4,
   "metadata": {},
   "outputs": [],
   "source": [
    "from snake_ai.envs import RandomObstaclesEnv\n",
    "import scipy.sparse as sp\n",
    "import numpy as np\n",
    "import phi.flow as pf\n",
    "import matplotlib.pyplot as plt"
   ]
  },
  {
   "cell_type": "markdown",
   "metadata": {},
   "source": [
    "## Définition des différences finies"
   ]
  },
  {
   "cell_type": "code",
   "execution_count": null,
   "metadata": {},
   "outputs": [],
   "source": [
    "def create_laplacian_matrix_2d(\n",
    "    nx: int, ny: int, dx: float, dy: float\n",
    ") -> sp.lil_array:\n",
    "    Dxx = sp.diags([1, -2, 1], [-1, 0, 1], shape=(nx, nx)) / dx**2\n",
    "    Dyy = sp.diags([1, -2, 1], [-1, 0, 1], shape=(ny, ny)) / dy**2\n",
    "    return sp.lil_array(sp.kronsum(Dyy, Dxx))\n",
    "\n",
    "\n",
    "def create_laplacian_matrix_3d(\n",
    "    nx: int, ny: int, nz: int, dx: float, dy: float, dz: float\n",
    ") -> sp.lil_array:\n",
    "    # Compute the 2D laplacian matrix\n",
    "    laplace_2d = create_laplacian_matrix_2d(nx, ny, dx, dy)\n",
    "\n",
    "    Dzz = sp.diags([1, -2, 1], [-1, 0, 1], shape=(nz, nz)) / dz**2\n",
    "    return sp.lil_array(sp.kronsum(Dzz, laplace_2d))"
   ]
  },
  {
   "cell_type": "markdown",
   "metadata": {},
   "source": [
    "## Utilisation d'environements existants"
   ]
  },
  {
   "cell_type": "code",
   "execution_count": 11,
   "metadata": {},
   "outputs": [
    {
     "data": {
      "text/plain": [
       "<matplotlib.colorbar.Colorbar at 0x7c96b1d86470>"
      ]
     },
     "execution_count": 11,
     "metadata": {},
     "output_type": "execute_result"
    },
    {
     "data": {
      "image/png": "[encoded data removed]",
      "text/plain": [
       "<Figure size 640x480 with 2 Axes>"
      ]
     },
     "metadata": {},
     "output_type": "display_data"
    }
   ],
   "source": [
    "env = RandomObstaclesEnv(pixel=1, nb_obs=20, max_obs_size=3)\n",
    "env.reset()\n",
    "plt.imshow(env._free_position_mask, origin='lower')\n",
    "plt.plot(env.goal.y, env.goal.x, 'go')\n",
    "plt.plot(env.agent.position.y, env.agent.position.x, 'bo')\n",
    "plt.colorbar()"
   ]
  },
  {
   "cell_type": "code",
   "execution_count": 12,
   "metadata": {},
   "outputs": [
    {
     "ename": "NameError",
     "evalue": "name 'phiflow' is not defined",
     "output_type": "error",
     "traceback": [
      "\u001b[0;31m---------------------------------------------------------------------------\u001b[0m",
      "\u001b[0;31mNameError\u001b[0m                                 Traceback (most recent call last)",
      "Cell \u001b[0;32mIn[12], line 1\u001b[0m\n\u001b[0;32m----> 1\u001b[0m bounds \u001b[38;5;241m=\u001b[39m \u001b[43mphiflow\u001b[49m\u001b[38;5;241m.\u001b[39mBox(x\u001b[38;5;241m=\u001b[39menv\u001b[38;5;241m.\u001b[39mwidth, y\u001b[38;5;241m=\u001b[39menv\u001b[38;5;241m.\u001b[39mheight)\n\u001b[1;32m      3\u001b[0m goal \u001b[38;5;241m=\u001b[39m phiflow\u001b[38;5;241m.\u001b[39mBox(x\u001b[38;5;241m=\u001b[39m(env\u001b[38;5;241m.\u001b[39mgoal\u001b[38;5;241m.\u001b[39mleft, env\u001b[38;5;241m.\u001b[39mgoal\u001b[38;5;241m.\u001b[39mright), y\u001b[38;5;241m=\u001b[39m(env\u001b[38;5;241m.\u001b[39mgoal\u001b[38;5;241m.\u001b[39mtop, env\u001b[38;5;241m.\u001b[39mgoal\u001b[38;5;241m.\u001b[39mbottom))\n",
      "\u001b[0;31mNameError\u001b[0m: name 'phiflow' is not defined"
     ]
    }
   ],
   "source": [
    "bounds = pf.Box(x=env.width, y=env.height)\n",
    "goal = pf.Box(x=(env.goal.left, env.goal.right), y=(env.goal.top, env.goal.bottom))\n",
    "resolution = 2\n",
    "boundary_conditions = pf.CenteredGrid(0, bounds=bounds, extrapolation=0, resolution=pf.spatial(x=env.width * resolution, y= env.height * resolution))\n"
   ]
  },
  {
   "cell_type": "markdown",
   "metadata": {},
   "source": []
  }
 ],
 "metadata": {
  "kernelspec": {
   "display_name": "snake-env",
   "language": "python",
   "name": "python3"
  },
  "language_info": {
   "codemirror_mode": {
    "name": "ipython",
    "version": 3
   },
   "file_extension": ".py",
   "mimetype": "text/x-python",
   "name": "python",
   "nbconvert_exporter": "python",
   "pygments_lexer": "ipython3",
   "version": "3.10.11"
  }
 },
 "nbformat": 4,
 "nbformat_minor": 2
}
